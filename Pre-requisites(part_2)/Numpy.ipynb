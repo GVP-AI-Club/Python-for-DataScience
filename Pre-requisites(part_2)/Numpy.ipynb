{
 "cells": [
  {
   "cell_type": "markdown",
   "metadata": {},
   "source": [
    "# Numpy"
   ]
  },
  {
   "cell_type": "markdown",
   "metadata": {},
   "source": [
    "## Importing Package"
   ]
  },
  {
   "cell_type": "code",
   "execution_count": 86,
   "metadata": {},
   "outputs": [],
   "source": [
    "import numpy as np"
   ]
  },
  {
   "cell_type": "markdown",
   "metadata": {},
   "source": [
    "## Numpy Arrays"
   ]
  },
  {
   "cell_type": "markdown",
   "metadata": {},
   "source": [
    "### 1D Array"
   ]
  },
  {
   "cell_type": "code",
   "execution_count": 87,
   "metadata": {},
   "outputs": [],
   "source": [
    "a = np.array([1,2,3])"
   ]
  },
  {
   "cell_type": "code",
   "execution_count": 88,
   "metadata": {},
   "outputs": [
    {
     "name": "stdout",
     "output_type": "stream",
     "text": [
      "<type 'numpy.ndarray'>\n",
      "[1 2 3]\n",
      "3\n",
      "3\n",
      "8\n",
      "(3,)\n",
      "1\n",
      "int64\n"
     ]
    }
   ],
   "source": [
    "print(type(a)) # prints type of array\n",
    "print(a) # prints the array\n",
    "print(len(a)) # prints length of an array\n",
    "print(a.size) # prints number of elements in an array\n",
    "print(a.itemsize) # prints byte size of an array\n",
    "print(a.shape) # prints shape of an array\n",
    "print(a.ndim) # prints dimension of an array\n",
    "print(a.dtype) # prints data type of an array"
   ]
  },
  {
   "cell_type": "code",
   "execution_count": 89,
   "metadata": {},
   "outputs": [],
   "source": [
    "a = np.array([1,2,3], dtype = float)"
   ]
  },
  {
   "cell_type": "code",
   "execution_count": 90,
   "metadata": {},
   "outputs": [
    {
     "name": "stdout",
     "output_type": "stream",
     "text": [
      "<type 'numpy.ndarray'>\n",
      "[1. 2. 3.]\n",
      "3\n",
      "3\n",
      "8\n",
      "(3,)\n",
      "1\n",
      "float64\n"
     ]
    }
   ],
   "source": [
    "print(type(a)) # prints type of array\n",
    "print(a) # prints the array\n",
    "print(len(a)) # prints length of an array\n",
    "print(a.size) # prints number of elements in an array\n",
    "print(a.itemsize) # prints byte size of an array\n",
    "print(a.shape) # prints shape of an array\n",
    "print(a.ndim) # prints dimension of an array\n",
    "print(a.dtype) # prints data type of an array"
   ]
  },
  {
   "cell_type": "code",
   "execution_count": 91,
   "metadata": {},
   "outputs": [
    {
     "name": "stdout",
     "output_type": "stream",
     "text": [
      "[1.   5.33 3.  ]\n"
     ]
    }
   ],
   "source": [
    "a[1] = 5.33 # replace value of element:2 at index:1 in array 'a'\n",
    "print(a)"
   ]
  },
  {
   "cell_type": "code",
   "execution_count": 92,
   "metadata": {},
   "outputs": [
    {
     "name": "stdout",
     "output_type": "stream",
     "text": [
      "[1 5 3]\n"
     ]
    }
   ],
   "source": [
    "a = a.astype(np.int32) # covert an array into INT 32bits\n",
    "print(a) # prints array"
   ]
  },
  {
   "cell_type": "markdown",
   "metadata": {},
   "source": [
    "### 2D Array"
   ]
  },
  {
   "cell_type": "code",
   "execution_count": 93,
   "metadata": {},
   "outputs": [],
   "source": [
    " a = np.array([(1,2,3), (4,5,6)])"
   ]
  },
  {
   "cell_type": "code",
   "execution_count": 94,
   "metadata": {},
   "outputs": [
    {
     "name": "stdout",
     "output_type": "stream",
     "text": [
      "<type 'numpy.ndarray'>\n",
      "[[1 2 3]\n",
      " [4 5 6]]\n",
      "2\n",
      "6\n",
      "8\n",
      "(2, 3)\n",
      "2\n",
      "int64\n"
     ]
    }
   ],
   "source": [
    "print(type(a)) # prints type of array\n",
    "print(a) # prints the array\n",
    "print(len(a)) # prints length of an array\n",
    "print(a.size) # prints number of elements in an array\n",
    "print(a.itemsize) # prints byte size of an array\n",
    "print(a.shape) # prints shape of an array\n",
    "print(a.ndim) # prints dimension of an array\n",
    "print(a.dtype) # prints data type of an array"
   ]
  },
  {
   "cell_type": "code",
   "execution_count": 95,
   "metadata": {},
   "outputs": [],
   "source": [
    " a = np.array([(1,2,3.56), (4,5,6)], dtype = float)"
   ]
  },
  {
   "cell_type": "code",
   "execution_count": 96,
   "metadata": {},
   "outputs": [
    {
     "name": "stdout",
     "output_type": "stream",
     "text": [
      "<type 'numpy.ndarray'>\n",
      "\n",
      "\n",
      "[[1.   2.   3.56]\n",
      " [4.   5.   6.  ]]\n",
      "\n",
      "\n",
      "2\n",
      "\n",
      "\n",
      "6\n",
      "\n",
      "\n",
      "8\n",
      "\n",
      "\n",
      "(2, 3)\n",
      "\n",
      "\n",
      "2\n",
      "\n",
      "\n",
      "float64\n",
      "\n",
      "\n"
     ]
    }
   ],
   "source": [
    "print(type(a)) # prints type of array\n",
    "print(\"\\n\")\n",
    "print(a) # prints the array\n",
    "print(\"\\n\")\n",
    "print(len(a)) # prints length of an array\n",
    "print(\"\\n\")\n",
    "print(a.size) # prints number of elements in an array\n",
    "print(\"\\n\")\n",
    "print(a.itemsize) # prints byte size of an array\n",
    "print(\"\\n\")\n",
    "print(a.shape) # prints shape of an array\n",
    "print(\"\\n\")\n",
    "print(a.ndim) # prints dimension of an array\n",
    "print(\"\\n\")\n",
    "print(a.dtype) # prints data type of an array\n",
    "print(\"\\n\")"
   ]
  },
  {
   "cell_type": "code",
   "execution_count": 97,
   "metadata": {},
   "outputs": [
    {
     "name": "stdout",
     "output_type": "stream",
     "text": [
      "3.56\n",
      "\n",
      "\n",
      "6.0\n"
     ]
    }
   ],
   "source": [
    "print(a[0,2])\n",
    "print(\"\\n\")\n",
    "print(a[1,2])"
   ]
  },
  {
   "cell_type": "code",
   "execution_count": 98,
   "metadata": {},
   "outputs": [
    {
     "name": "stdout",
     "output_type": "stream",
     "text": [
      "[[1 2 3]\n",
      " [4 5 6]]\n"
     ]
    }
   ],
   "source": [
    "a = a.astype(np.int32) # covert an array into INT 32bits\n",
    "print(a) # prints array"
   ]
  },
  {
   "cell_type": "code",
   "execution_count": 99,
   "metadata": {},
   "outputs": [
    {
     "name": "stdout",
     "output_type": "stream",
     "text": [
      "[[1 2]\n",
      " [3 4]\n",
      " [5 6]]\n"
     ]
    }
   ],
   "source": [
    "a = a.reshape(3,2) #reshaping an array\n",
    "print(a)"
   ]
  },
  {
   "cell_type": "code",
   "execution_count": 100,
   "metadata": {},
   "outputs": [
    {
     "name": "stdout",
     "output_type": "stream",
     "text": [
      "2\n"
     ]
    }
   ],
   "source": [
    "print(a[0,1]) # prints element at index 0,1"
   ]
  },
  {
   "cell_type": "code",
   "execution_count": 101,
   "metadata": {},
   "outputs": [
    {
     "name": "stdout",
     "output_type": "stream",
     "text": [
      "[2 4 6]\n",
      "\n",
      "\n",
      "[2 4]\n"
     ]
    }
   ],
   "source": [
    "print(a[0:,1]) # prints every row elements at index (rowIndex,1)\n",
    "print(\"\\n\")\n",
    "print(a[0:2,1]) # prints row 0 to row 1 elements at index (rowIndex,1)"
   ]
  },
  {
   "cell_type": "markdown",
   "metadata": {},
   "source": [
    "### Placeholders"
   ]
  },
  {
   "cell_type": "code",
   "execution_count": 102,
   "metadata": {},
   "outputs": [
    {
     "name": "stdout",
     "output_type": "stream",
     "text": [
      "[[0. 0. 0. 0.]\n",
      " [0. 0. 0. 0.]\n",
      " [0. 0. 0. 0.]]\n",
      "\n",
      "\n",
      "[[[1 1 1 1]\n",
      "  [1 1 1 1]\n",
      "  [1 1 1 1]]\n",
      "\n",
      " [[1 1 1 1]\n",
      "  [1 1 1 1]\n",
      "  [1 1 1 1]]]\n",
      "\n",
      "\n",
      "[10 15 20]\n",
      "\n",
      "\n",
      "[0.   0.25 0.5  0.75 1.   1.25 1.5  1.75 2.  ]\n",
      "\n",
      "\n",
      "[[7 7]\n",
      " [7 7]]\n",
      "\n",
      "\n",
      "[[1. 0.]\n",
      " [0. 1.]]\n",
      "\n",
      "\n",
      "[[0.40380429 0.8149315 ]\n",
      " [0.77218471 0.77736521]]\n",
      "\n",
      "\n",
      "[[ 7.  8.]\n",
      " [ 9. 10.]\n",
      " [11. 12.]]\n",
      "\n",
      "\n"
     ]
    }
   ],
   "source": [
    "a = np.zeros((3,4)) # Create an array of zeros\n",
    "print(a)\n",
    "print(\"\\n\")\n",
    "b = np.ones((2,3,4),dtype=np.int16) # Create an array of ones\n",
    "print(b)\n",
    "print(\"\\n\")\n",
    "c = np.arange(10,25,5) # Create an array of evenly spaced values (step value)  \n",
    "print(c)\n",
    "print(\"\\n\")\n",
    "d = np.linspace(0,2,9) # Create an array of evenly spaced values (number of samples)\n",
    "print(d)\n",
    "print(\"\\n\")\n",
    "e = np.full((2,2),7) # Create a constant array\n",
    "print(e)\n",
    "print(\"\\n\")\n",
    "f = np.eye(2) # Create a 2X2 identity matrix\n",
    "print(f)\n",
    "print(\"\\n\")\n",
    "g = np.random.random((2,2)) # Create an array with random values\n",
    "print(g)\n",
    "print(\"\\n\")\n",
    "h = np.empty((3,2)) # Create an empty array\n",
    "print(h)\n",
    "print(\"\\n\")"
   ]
  },
  {
   "cell_type": "markdown",
   "metadata": {},
   "source": [
    "### Numpy Operations"
   ]
  },
  {
   "cell_type": "code",
   "execution_count": 103,
   "metadata": {},
   "outputs": [
    {
     "name": "stdout",
     "output_type": "stream",
     "text": [
      "[[1. 2. 3.]\n",
      " [4. 5. 6.]]\n",
      "\n",
      "\n",
      "[[ 7.  8.  9.]\n",
      " [10. 11. 12.]]\n",
      "\n",
      "\n"
     ]
    }
   ],
   "source": [
    "a = np.array([(1,2,3), (4,5,6)], dtype = float)\n",
    "print(a)\n",
    "print(\"\\n\")\n",
    "b = np.array([(7,8,9), (10,11,12)], dtype = float)\n",
    "print(b)\n",
    "print(\"\\n\")"
   ]
  },
  {
   "cell_type": "code",
   "execution_count": 104,
   "metadata": {},
   "outputs": [
    {
     "name": "stdout",
     "output_type": "stream",
     "text": [
      "[[ 8. 10. 12.]\n",
      " [14. 16. 18.]]\n",
      "\n",
      "\n",
      "[[-6. -6. -6.]\n",
      " [-6. -6. -6.]]\n",
      "\n",
      "\n",
      "[[0.14285714 0.25       0.33333333]\n",
      " [0.4        0.45454545 0.5       ]]\n",
      "\n",
      "\n",
      "[[ 7. 16. 27.]\n",
      " [40. 55. 72.]]\n"
     ]
    }
   ],
   "source": [
    "print(a+b)\n",
    "print(\"\\n\")\n",
    "print(a-b)\n",
    "print(\"\\n\")\n",
    "print(a/b)\n",
    "print(\"\\n\")\n",
    "print(a*b)"
   ]
  },
  {
   "cell_type": "code",
   "execution_count": 105,
   "metadata": {},
   "outputs": [
    {
     "name": "stdout",
     "output_type": "stream",
     "text": [
      "[[ 8. 10. 12.]\n",
      " [14. 16. 18.]]\n",
      "\n",
      "\n",
      "[[-6. -6. -6.]\n",
      " [-6. -6. -6.]]\n",
      "\n",
      "\n",
      "[[0.14285714 0.25       0.33333333]\n",
      " [0.4        0.45454545 0.5       ]]\n",
      "\n",
      "\n",
      "[[ 7. 16. 27.]\n",
      " [40. 55. 72.]]\n",
      "\n",
      "\n",
      "*********************************\n",
      "[[ 7.  8.]\n",
      " [ 9. 10.]\n",
      " [11. 12.]]\n",
      "\n",
      "\n",
      "[[1. 2. 3.]\n",
      " [4. 5. 6.]]\n",
      "\n",
      "\n",
      "[[ 39.  54.  69.]\n",
      " [ 49.  68.  87.]\n",
      " [ 59.  82. 105.]]\n",
      "\n",
      "\n",
      "[[-6. 12. -6.]\n",
      " [-6. 12. -6.]]\n"
     ]
    }
   ],
   "source": [
    "print(np.add(a, b))\n",
    "print(\"\\n\")\n",
    "print(np.subtract(a, b))\n",
    "print(\"\\n\")\n",
    "print(np.divide(a, b))\n",
    "print(\"\\n\")\n",
    "print(np.multiply(a, b))\n",
    "print(\"\\n\")\n",
    "print(\"*********************************\")\n",
    "e = b.reshape(3,2)\n",
    "print(e)\n",
    "print(\"\\n\")\n",
    "print(a)\n",
    "print(\"\\n\")\n",
    "print(e.dot(a)) # Can also use np.dot(e,a)\n",
    "print(\"\\n\")\n",
    "print(np.cross(a,b))"
   ]
  },
  {
   "cell_type": "code",
   "execution_count": 106,
   "metadata": {},
   "outputs": [
    {
     "name": "stdout",
     "output_type": "stream",
     "text": [
      "[[1. 2. 3.]\n",
      " [4. 5. 6.]]\n",
      "\n",
      "\n",
      "6.0\n",
      "\n",
      "\n",
      "1.0\n",
      "\n",
      "\n",
      "21.0\n",
      "\n",
      "\n",
      "[5. 7. 9.]\n",
      "\n",
      "\n",
      "[ 6. 15.]\n",
      "\n",
      "\n"
     ]
    }
   ],
   "source": [
    "print(a)\n",
    "print(\"\\n\")\n",
    "print(a.max())\n",
    "print(\"\\n\")\n",
    "print(a.min())\n",
    "print(\"\\n\")\n",
    "print(a.sum())\n",
    "print(\"\\n\")\n",
    "print(a.sum(axis = 0))\n",
    "print(\"\\n\")\n",
    "print(a.sum(axis = 1))\n",
    "print(\"\\n\")"
   ]
  },
  {
   "cell_type": "code",
   "execution_count": 107,
   "metadata": {
    "scrolled": true
   },
   "outputs": [
    {
     "name": "stdout",
     "output_type": "stream",
     "text": [
      "[[1. 2. 3.]\n",
      " [4. 5. 6.]]\n",
      "\n",
      "\n",
      "[[ 7.  8.  9.]\n",
      " [10. 11. 12.]]\n",
      "\n",
      "\n",
      "****************************\n",
      "[[  1096.63315843   2980.95798704   8103.08392758]\n",
      " [ 22026.46579481  59874.1417152  162754.791419  ]]\n",
      "\n",
      "\n",
      "[[2.64575131 2.82842712 3.        ]\n",
      " [3.16227766 3.31662479 3.46410162]]\n",
      "\n",
      "\n",
      "[[ 0.84147098  0.90929743  0.14112001]\n",
      " [-0.7568025  -0.95892427 -0.2794155 ]]\n",
      "\n",
      "\n",
      "[[ 0.75390225 -0.14550003 -0.91113026]\n",
      " [-0.83907153  0.0044257   0.84385396]]\n",
      "\n",
      "\n",
      "[[0.         0.69314718 1.09861229]\n",
      " [1.38629436 1.60943791 1.79175947]]\n",
      "\n",
      "\n"
     ]
    }
   ],
   "source": [
    "print(a)\n",
    "print(\"\\n\")\n",
    "print(b)\n",
    "print(\"\\n\")\n",
    "print(\"****************************\")\n",
    "print(np.exp(b))                          #Exponentiation\n",
    "print(\"\\n\")\n",
    "print(np.sqrt(b))                         #Square root\n",
    "print(\"\\n\")\n",
    "print(np.sin(a))                          #Print sines of an array\n",
    "print(\"\\n\")\n",
    "print(np.cos(b))                          #Element-wise cosine \n",
    "print(\"\\n\")\n",
    "print(np.log(a))                          #Element-wise natural logarithm                           \n",
    "print(\"\\n\")"
   ]
  },
  {
   "cell_type": "code",
   "execution_count": 108,
   "metadata": {},
   "outputs": [
    {
     "name": "stdout",
     "output_type": "stream",
     "text": [
      "2.0\n",
      "\n",
      "\n",
      "1.0\n",
      "\n",
      "\n",
      "0.816496580927726\n",
      "\n",
      "\n",
      "[1 2 3]\n"
     ]
    }
   ],
   "source": [
    "x = np.array([1,2,3])\n",
    "\n",
    "print(np.median(x))                  #Median\n",
    "print(\"\\n\")\n",
    "print(np.corrcoef(x))                #Correlation coefficient\n",
    "print(\"\\n\")\n",
    "print(np.std(x))                     #Standard deviation\n",
    "print(\"\\n\")\n",
    "\n",
    "y = np.copy(x)                       #Copy array to y\n",
    "print(y)"
   ]
  },
  {
   "cell_type": "markdown",
   "metadata": {},
   "source": [
    "### Array Manupulation"
   ]
  },
  {
   "cell_type": "code",
   "execution_count": 109,
   "metadata": {},
   "outputs": [
    {
     "name": "stdout",
     "output_type": "stream",
     "text": [
      "[[1 2 3]\n",
      " [4 5 6]\n",
      " [7 8 9]]\n",
      "\n",
      "\n",
      "[[1 4 7]\n",
      " [2 5 8]\n",
      " [3 6 9]]\n",
      "\n",
      "\n",
      "[1 2 3 4 5 6 7 8 9]\n",
      "\n",
      "\n",
      "[ 1  2  3  4  5  6  7  8  9 33]\n",
      "[ 1  2  3  4  5 55  6  7  8  9]\n",
      "[1 2 3 4 5 6 7 8]\n",
      "\n",
      "\n",
      "[ 1  2  3  4  5  6  7  8  9 10 11 12]\n",
      "\n",
      "\n",
      "[array([1, 2, 3]), array([4, 5, 6]), array([7, 8, 9])]\n",
      "\n",
      "\n",
      "[array([[1, 2, 3],\n",
      "       [4, 5, 6]]), array([[ 7,  8,  9],\n",
      "       [10, 11, 12]])]\n"
     ]
    }
   ],
   "source": [
    "a = np.array([(1,2,3), (4,5,6), (7,8,9)], dtype = int)\n",
    "print(a)\n",
    "print(\"\\n\")\n",
    "\n",
    "### Transpose\n",
    "t = np.transpose(a)\n",
    "print(t)\n",
    "print(\"\\n\")\n",
    "\n",
    "### Reshape\n",
    "ra = a.ravel()\n",
    "print(ra)\n",
    "print(\"\\n\")\n",
    "\n",
    "### Modify\n",
    "print(np.append(ra,33))\n",
    "print(np.insert(ra, 5, 55))\n",
    "print(np.delete(ra,[8]))\n",
    "print(\"\\n\")\n",
    "\n",
    "### Combine\n",
    "b = np.array([10,11,12], dtype = int)\n",
    "print(np.concatenate((ra,b),axis=0))\n",
    "print(\"\\n\")\n",
    "\n",
    "### Split\n",
    "print(np.hsplit(ra,3))\n",
    "print(\"\\n\")\n",
    "a = np.array([(1,2,3), (4,5,6), (7,8,9), (10,11,12)], dtype = int)\n",
    "print(np.vsplit(a,2))\n"
   ]
  }
 ],
 "metadata": {
  "kernelspec": {
   "display_name": "Python 2",
   "language": "python",
   "name": "python2"
  },
  "language_info": {
   "codemirror_mode": {
    "name": "ipython",
    "version": 2
   },
   "file_extension": ".py",
   "mimetype": "text/x-python",
   "name": "python",
   "nbconvert_exporter": "python",
   "pygments_lexer": "ipython2",
   "version": "2.7.15rc1"
  }
 },
 "nbformat": 4,
 "nbformat_minor": 2
}
