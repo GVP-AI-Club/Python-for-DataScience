{
 "cells": [
  {
   "cell_type": "markdown",
   "metadata": {},
   "source": [
    "# Python "
   ]
  },
  {
   "cell_type": "markdown",
   "metadata": {},
   "source": [
    "## Data Types"
   ]
  },
  {
   "cell_type": "code",
   "execution_count": null,
   "metadata": {
    "scrolled": true
   },
   "outputs": [],
   "source": [
    "print(type(1))\n",
    "print(type(3.14))\n",
    "print(type('s'))\n",
    "print(type('abc'))\n",
    "print(type(True))"
   ]
  },
  {
   "cell_type": "code",
   "execution_count": null,
   "metadata": {},
   "outputs": [],
   "source": [
    "print(type([1,2,3]))\n",
    "print(type((1,2,3)))\n",
    "print(type({1,2,3}))\n",
    "print(type({'A':1,'B':2,'C':3}))"
   ]
  },
  {
   "cell_type": "markdown",
   "metadata": {},
   "source": [
    "### Lists\n",
    "Lists are another type of object in Python. They are used to store an indexed list of items. \n",
    "A list is created using square brackets with commas separating items.\n",
    "The certain item in the list can be accessed by using its index in square brackets."
   ]
  },
  {
   "cell_type": "code",
   "execution_count": null,
   "metadata": {},
   "outputs": [],
   "source": [
    "nums = [1, 2, 3]\n",
    "print(nums + [4, 5, 6])\n",
    "print(nums * 3)"
   ]
  },
  {
   "cell_type": "code",
   "execution_count": null,
   "metadata": {},
   "outputs": [],
   "source": [
    "words = [\"spam\", \"egg\", \"spam\", \"sausage\"]\n",
    "print(\"spam\" in words)\n",
    "print(\"egg\" not in words)\n",
    "print(\"tomato\" in words)"
   ]
  },
  {
   "cell_type": "code",
   "execution_count": null,
   "metadata": {},
   "outputs": [],
   "source": [
    "nums = [1, 2, 3]\n",
    "nums.append(4)\n",
    "print(nums)\n",
    "print(len(nums))"
   ]
  },
  {
   "cell_type": "code",
   "execution_count": null,
   "metadata": {},
   "outputs": [],
   "source": [
    "words = [\"Python\", \"fun\"]\n",
    "index = 1\n",
    "words.insert(index, \"is\")\n",
    "print(words)"
   ]
  },
  {
   "cell_type": "code",
   "execution_count": null,
   "metadata": {},
   "outputs": [],
   "source": [
    "letters = ['p', 'q', 'r', 's', 'p', 'u']\n",
    "print(letters.index('r'))\n",
    "print(letters.index('p'))\n",
    "print(letters.index('z'))"
   ]
  },
  {
   "cell_type": "markdown",
   "metadata": {},
   "source": [
    "### Tuple\n",
    "A tuple is a sequence of immutable Python objects. Tuples are sequences, just like lists. The differences between tuples and lists are, the tuples cannot be changed unlike lists and tuples use parentheses, whereas lists use square brackets."
   ]
  },
  {
   "cell_type": "code",
   "execution_count": null,
   "metadata": {},
   "outputs": [],
   "source": [
    "tup1 = ('physics', 'chemistry', 1997, 2000)\n",
    "tup2 = (1, 2, 3, 4, 5 )\n",
    "tup3 = \"a\", \"b\", \"c\", \"d\"\n",
    "print(tup1,tup2,tup3)"
   ]
  },
  {
   "cell_type": "code",
   "execution_count": null,
   "metadata": {},
   "outputs": [],
   "source": [
    "tup1 = (50,);\n",
    "tup2 = (50)\n",
    "print(type(tup1),type(tup2))"
   ]
  },
  {
   "cell_type": "code",
   "execution_count": null,
   "metadata": {},
   "outputs": [],
   "source": [
    "tup1 = (12, 34.56)\n",
    "tup2 = ('abc', 'xyz')\n",
    "\n",
    "# Following action is not valid for tuples\n",
    "# tup1[0] = 100;\n",
    "\n",
    "# So let's create a new tuple as follows\n",
    "tup3 = tup1 + tup2\n",
    "print(tup3)"
   ]
  },
  {
   "cell_type": "markdown",
   "metadata": {},
   "source": [
    "### Sets\n",
    "\n",
    "Mathematically a set is a collection of items not in any particular order. A Python set is similar to this mathematical definition with below additional conditions.\n",
    "\n",
    "1.The elements in the set cannot be duplicates. <br/>\n",
    "2.The elements in the set are immutable(cannot be modified) but the set as a whole is mutable.<br>\n",
    "3.There is no index attached to any element in a python set. So they do not support any indexing or slicing operation."
   ]
  },
  {
   "cell_type": "code",
   "execution_count": null,
   "metadata": {},
   "outputs": [],
   "source": [
    "Days=set([\"Mon\",\"Tue\",\"Wed\",\"Thu\",\"Fri\",\"Sat\",\"Sun\"])\n",
    "Months={\"Jan\",\"Feb\",\"Mar\"}\n",
    "Dates={21,22,17}\n",
    "print(Days)\n",
    "print(Months)\n",
    "print(Dates)"
   ]
  },
  {
   "cell_type": "code",
   "execution_count": null,
   "metadata": {},
   "outputs": [],
   "source": [
    "Days=set([\"Mon\",\"Tue\",\"Wed\",\"Thu\",\"Fri\",\"Sat\"])\n",
    "Days.add(\"Sun\")\n",
    "print(Days)\n",
    "Days.discard(\"Sun\")\n",
    "print(Days)"
   ]
  },
  {
   "cell_type": "code",
   "execution_count": null,
   "metadata": {
    "scrolled": true
   },
   "outputs": [],
   "source": [
    "DaysA = set([\"Mon\",\"Tue\",\"Wed\"])\n",
    "DaysB = set([\"Wed\",\"Thu\",\"Fri\",\"Sat\",\"Sun\"])\n",
    "AllDays = DaysA|DaysB\n",
    "print(AllDays)\n",
    "AllDays = DaysA & DaysB\n",
    "print(AllDays)\n",
    "AllDays = DaysA - DaysB\n",
    "print(AllDays)"
   ]
  },
  {
   "cell_type": "markdown",
   "metadata": {},
   "source": [
    "### Dictionaries\n",
    "\n",
    "Each key is separated from its value by a colon (:), the items are separated by commas, and the whole thing is enclosed in curly braces. An empty dictionary without any items is written with just two curly braces, like this: {}.\n",
    "\n",
    "Keys are unique within a dictionary while values may not be. The values of a dictionary can be of any type, but the keys must be of an immutable data type such as strings, numbers, or tuples."
   ]
  },
  {
   "cell_type": "code",
   "execution_count": null,
   "metadata": {},
   "outputs": [],
   "source": [
    "dict = {'Name': 'Zara', 'Age': 7, 'Class': 'First'}\n",
    "print (\"dict['Name']: \", dict['Name'])\n",
    "print (\"dict['Age']: \", dict['Age'])"
   ]
  },
  {
   "cell_type": "code",
   "execution_count": null,
   "metadata": {},
   "outputs": [],
   "source": [
    "dict = {'Name': 'Zara', 'Age': 7, 'Class': 'First'}\n",
    "dict['Age'] = 8; # update existing entry\n",
    "dict['School'] = \"DPS School\"; # Add new entry\n",
    "\n",
    "print (\"dict['Age']: \", dict['Age'])\n",
    "print (\"dict['School']: \", dict['School'])"
   ]
  },
  {
   "cell_type": "code",
   "execution_count": null,
   "metadata": {},
   "outputs": [],
   "source": [
    "dict = {'Name': 'Zara', 'Age': 7, 'Class': 'First'}\n",
    "del dict['Name']; \n",
    "dict.clear();     \n",
    "del dict ;        \n",
    "\n",
    "print (\"dict['Age']: \", dict['Age'])\n",
    "print (\"dict['School']: \", dict['School'])"
   ]
  },
  {
   "cell_type": "markdown",
   "metadata": {},
   "source": [
    "### Strings and Useful Functions"
   ]
  },
  {
   "cell_type": "code",
   "execution_count": null,
   "metadata": {},
   "outputs": [],
   "source": [
    "nums = [4, 5, 6]\n",
    "msg = \"Numbers: {0} {1} {2}\". format(nums[0], nums[1], nums[2])\n",
    "print(msg)"
   ]
  },
  {
   "cell_type": "code",
   "execution_count": null,
   "metadata": {},
   "outputs": [],
   "source": [
    "print(\", \".join([\"spam\", \"eggs\", \"ham\"]))\n",
    "\n",
    "print(\"Hello ME\".replace(\"ME\", \"world\"))\n",
    "\n",
    "print(\"This is a sentence.\".startswith(\"This\"))\n",
    "\n",
    "print(\"This is a sentence.\".endswith(\"sentence.\"))\n",
    "\n",
    "print(\"This is a sentence.\".upper())\n",
    "\n",
    "print(\"AN ALL CAPS SENTENCE\".lower())\n",
    "\n",
    "print(\"spam, eggs, ham\".split(\", \"))"
   ]
  },
  {
   "cell_type": "markdown",
   "metadata": {},
   "source": [
    "# Control Structures"
   ]
  },
  {
   "cell_type": "markdown",
   "metadata": {},
   "source": [
    "### Conditional"
   ]
  },
  {
   "cell_type": "code",
   "execution_count": null,
   "metadata": {},
   "outputs": [],
   "source": [
    "num = 7\n",
    "if num == 5:\n",
    "   print(\"Number is 5\")\n",
    "elif num == 11:\n",
    "   print(\"Number is 11\")\n",
    "elif num == 7:\n",
    "   print(\"Number is 7\")\n",
    "else:\n",
    "   print(\"Number isn't 5, 11 or 7\")"
   ]
  },
  {
   "cell_type": "code",
   "execution_count": null,
   "metadata": {},
   "outputs": [],
   "source": [
    "print(1 == 1 and 2 == 2)\n",
    "print(1 != 1 or 2 == 2)\n",
    "print(not 1 == 1)\n"
   ]
  },
  {
   "cell_type": "code",
   "execution_count": null,
   "metadata": {},
   "outputs": [],
   "source": [
    "i = 0\n",
    "while True:\n",
    "   i = i +1\n",
    "   if i == 2:\n",
    "      print(\"Skipping 2\")\n",
    "      continue\n",
    "   if i == 5:\n",
    "      print(\"Breaking\")\n",
    "      break\n",
    "   print(i)\n",
    "\n",
    "print(\"Finished\")"
   ]
  },
  {
   "cell_type": "code",
   "execution_count": null,
   "metadata": {},
   "outputs": [],
   "source": [
    "words = [\"hello\", \"world\", \"spam\", \"eggs\"]\n",
    "counter = 0\n",
    "max_index = len(words) - 1\n",
    "\n",
    "while counter <= max_index:\n",
    "   word = words[counter]\n",
    "   print(word + \"!\")\n",
    "   counter = counter + 1 "
   ]
  },
  {
   "cell_type": "code",
   "execution_count": null,
   "metadata": {},
   "outputs": [],
   "source": [
    "words = [\"hello\", \"world\", \"spam\", \"eggs\"]\n",
    "for word in words:\n",
    "  print(word + \"!\")"
   ]
  },
  {
   "cell_type": "code",
   "execution_count": null,
   "metadata": {},
   "outputs": [],
   "source": [
    "for i in range(0,100,10):\n",
    "    print(i,end = ' ')"
   ]
  },
  {
   "cell_type": "markdown",
   "metadata": {},
   "source": [
    "### Functional Programming"
   ]
  },
  {
   "cell_type": "code",
   "execution_count": null,
   "metadata": {},
   "outputs": [],
   "source": [
    "def apply_twice(func, arg):\n",
    "   return func(func(arg))\n",
    "\n",
    "def add_five(x):\n",
    "   return x + 5\n",
    "\n",
    "print(apply_twice(add_five, 10))"
   ]
  },
  {
   "cell_type": "markdown",
   "metadata": {},
   "source": [
    "### Lamda"
   ]
  },
  {
   "cell_type": "code",
   "execution_count": null,
   "metadata": {},
   "outputs": [],
   "source": [
    "def polynomial(x):\n",
    "    return x**2 + 5*x + 4\n",
    "print(polynomial(-4))\n"
   ]
  },
  {
   "cell_type": "code",
   "execution_count": null,
   "metadata": {
    "scrolled": true
   },
   "outputs": [],
   "source": [
    "print((lambda x: x**2 + 5*x + 4) (-4))"
   ]
  },
  {
   "cell_type": "markdown",
   "metadata": {},
   "source": [
    "### Map"
   ]
  },
  {
   "cell_type": "code",
   "execution_count": null,
   "metadata": {},
   "outputs": [],
   "source": [
    "def add_five(x):\n",
    "  return x + 5\n",
    "\n",
    "nums = [11, 22, 33, 44, 55]\n",
    "result = list(map(add_five, nums))\n",
    "print(result)"
   ]
  },
  {
   "cell_type": "markdown",
   "metadata": {},
   "source": [
    "### Generators"
   ]
  },
  {
   "cell_type": "code",
   "execution_count": null,
   "metadata": {},
   "outputs": [],
   "source": [
    "def countdown():\n",
    "  i=5\n",
    "  while i > 0:\n",
    "    yield i\n",
    "    i -= 1\n",
    "    \n",
    "for i in countdown():\n",
    "  print(i)"
   ]
  },
  {
   "cell_type": "markdown",
   "metadata": {},
   "source": [
    "### Exception Handling"
   ]
  },
  {
   "cell_type": "markdown",
   "metadata": {},
   "source": [
    "An exception is an event, which occurs during the execution of a program that disrupts the normal flow of the program's instructions. In general, when a Python script encounters a situation that it cannot cope with, it raises an exception. An exception is a Python object that represents an error."
   ]
  },
  {
   "cell_type": "code",
   "execution_count": null,
   "metadata": {},
   "outputs": [],
   "source": [
    "nums = [1,2,3,0]\n",
    "try:\n",
    "    for i in nums:\n",
    "        print(10/i)\n",
    "except Exception:\n",
    "    print('Oops! There is an Exception')\n",
    "finally:\n",
    "    print('This is must')"
   ]
  },
  {
   "cell_type": "code",
   "execution_count": null,
   "metadata": {},
   "outputs": [],
   "source": [
    "def KelvinToFahrenheit(Temperature):\n",
    "   assert (Temperature >= 0),\"Colder than absolute zero!\"\n",
    "   return ((Temperature-273)*1.8)+32\n",
    "\n",
    "print (KelvinToFahrenheit(273))\n",
    "print (int(KelvinToFahrenheit(505.78)))\n",
    "print (KelvinToFahrenheit(-5))"
   ]
  },
  {
   "cell_type": "markdown",
   "metadata": {},
   "source": [
    "If the assertion fails, Python uses ArgumentExpression as the argument for the AssertionError. AssertionError exceptions can be caught and handled like any other exception using the try-except statement, but if not handled, they will terminate the program and produce a traceback."
   ]
  },
  {
   "cell_type": "code",
   "execution_count": null,
   "metadata": {},
   "outputs": [],
   "source": []
  }
 ],
 "metadata": {
  "kernelspec": {
   "display_name": "Python 3",
   "language": "python",
   "name": "python3"
  },
  "language_info": {
   "codemirror_mode": {
    "name": "ipython",
    "version": 3
   },
   "file_extension": ".py",
   "mimetype": "text/x-python",
   "name": "python",
   "nbconvert_exporter": "python",
   "pygments_lexer": "ipython3",
   "version": "3.5.2"
  }
 },
 "nbformat": 4,
 "nbformat_minor": 2
}
