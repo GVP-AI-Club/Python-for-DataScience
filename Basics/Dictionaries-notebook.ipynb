{
 "cells": [
  {
   "cell_type": "markdown",
   "metadata": {
    "colab_type": "text",
    "id": "u7HCd_yLnnm_"
   },
   "source": [
    "# Dictionary"
   ]
  },
  {
   "cell_type": "markdown",
   "metadata": {
    "colab_type": "text",
    "id": "IAKk3BSunnnF"
   },
   "source": [
    "Python dictionary is an unordered collection of items. While other compound data types have only value as an element, a dictionary has a key: value pair."
   ]
  },
  {
   "cell_type": "markdown",
   "metadata": {
    "colab_type": "text",
    "id": "S5eGyB8hnnnI"
   },
   "source": [
    "# Dict Creation"
   ]
  },
  {
   "cell_type": "code",
   "execution_count": null,
   "metadata": {},
   "outputs": [],
   "source": [
    "dic ={}"
   ]
  },
  {
   "cell_type": "code",
   "execution_count": null,
   "metadata": {},
   "outputs": [],
   "source": [
    "dic = {1:'a',2:'b',3:'c'}\n",
    "dic"
   ]
  },
  {
   "cell_type": "code",
   "execution_count": null,
   "metadata": {},
   "outputs": [],
   "source": [
    "st = 'mlworkshop'"
   ]
  },
  {
   "cell_type": "code",
   "execution_count": null,
   "metadata": {},
   "outputs": [],
   "source": [
    "dic = {'even':[],'odd':[]}"
   ]
  },
  {
   "cell_type": "code",
   "execution_count": null,
   "metadata": {},
   "outputs": [],
   "source": [
    "dic"
   ]
  },
  {
   "cell_type": "code",
   "execution_count": null,
   "metadata": {},
   "outputs": [],
   "source": [
    "dic['even']"
   ]
  },
  {
   "cell_type": "code",
   "execution_count": null,
   "metadata": {},
   "outputs": [],
   "source": [
    "for i in range(1,10):\n",
    "    if(i%2==0):\n",
    "        dic['even'].append(i)\n",
    "    else:\n",
    "        dic['odd'].append(i)"
   ]
  },
  {
   "cell_type": "code",
   "execution_count": null,
   "metadata": {},
   "outputs": [],
   "source": [
    "dic"
   ]
  },
  {
   "cell_type": "code",
   "execution_count": null,
   "metadata": {},
   "outputs": [],
   "source": []
  },
  {
   "cell_type": "code",
   "execution_count": null,
   "metadata": {
    "colab": {
     "autoexec": {
      "startup": false,
      "wait_interval": 0
     }
    },
    "colab_type": "code",
    "id": "TP1im57wnnnO",
    "outputId": "26722eb9-81f4-46b1-9bc9-63a9885b2e7e"
   },
   "outputs": [],
   "source": [
    "#empty dictionary\n",
    "my_dict = {}\n",
    "\n",
    "#dictionary with integer keys\n",
    "my_dict = {1: 'abc', 2: 'xyz'}\n",
    "print(my_dict)\n",
    "\n",
    "#dictionary with mixed keys\n",
    "my_dict = {'name': 'Python', 1: ['abc', 'xyz']}\n",
    "print(my_dict)\n",
    "\n",
    "\n",
    "#create empty dictionary using dict()\n",
    "my_dict = dict()\n",
    "\n",
    "my_dict = dict([(1, 'abc'), (2, 'xyz')])    #create a dict with list of tuples\n",
    "print(my_dict)"
   ]
  },
  {
   "cell_type": "markdown",
   "metadata": {
    "colab_type": "text",
    "id": "6b3IqwCznnnv"
   },
   "source": [
    "# Dict Access"
   ]
  },
  {
   "cell_type": "code",
   "execution_count": null,
   "metadata": {
    "colab": {
     "autoexec": {
      "startup": false,
      "wait_interval": 0
     }
    },
    "colab_type": "code",
    "id": "aNa1ukzCnnnz",
    "outputId": "656a4680-ac5e-4d75-82a3-d1e054bdc7ea"
   },
   "outputs": [],
   "source": [
    "my_dict = {'name': 'Bob', 'age': 27, 'address': 'LA'}\n",
    "\n",
    "#get name\n",
    "print(my_dict['name'])"
   ]
  },
  {
   "cell_type": "code",
   "execution_count": null,
   "metadata": {
    "colab": {
     "autoexec": {
      "startup": false,
      "wait_interval": 0
     }
    },
    "colab_type": "code",
    "id": "sNkA65emnnoK",
    "outputId": "96759a2f-cfb7-4089-b181-aad5ecd166ae"
   },
   "outputs": [],
   "source": [
    "#if key is not present it gives KeyError\n",
    "print(my_dict['degree'])"
   ]
  },
  {
   "cell_type": "code",
   "execution_count": null,
   "metadata": {
    "colab": {
     "autoexec": {
      "startup": false,
      "wait_interval": 0
     }
    },
    "colab_type": "code",
    "id": "g2WpR7cNnnoe",
    "outputId": "74a475d1-d2a0-4922-dea1-da056b4c677b"
   },
   "outputs": [],
   "source": [
    "#another way of accessing key\n",
    "print(my_dict.get('address'))"
   ]
  },
  {
   "cell_type": "code",
   "execution_count": null,
   "metadata": {
    "colab": {
     "autoexec": {
      "startup": false,
      "wait_interval": 0
     }
    },
    "colab_type": "code",
    "id": "2vX6x8lPnno0",
    "outputId": "d869d87e-d3d8-473d-bfcc-2b4e8ea95b00"
   },
   "outputs": [],
   "source": [
    "#if key is not present it will give None using get method\n",
    "print(my_dict.get('degree'))"
   ]
  },
  {
   "cell_type": "markdown",
   "metadata": {
    "colab_type": "text",
    "id": "s4toODA9nnpJ"
   },
   "source": [
    "# Dict Add or Modify  Elements"
   ]
  },
  {
   "cell_type": "code",
   "execution_count": null,
   "metadata": {
    "colab": {
     "autoexec": {
      "startup": false,
      "wait_interval": 0
     }
    },
    "colab_type": "code",
    "id": "5jmiTDOInnpN",
    "outputId": "439e0cc8-82d8-4288-a933-83267b6793f5"
   },
   "outputs": [],
   "source": [
    "my_dict = {'name': 'Bob', 'age': 27, 'address': 'LA'}\n",
    "\n",
    "#update name \n",
    "my_dict['name'] = 'Luci'\n",
    "\n",
    "print(my_dict)"
   ]
  },
  {
   "cell_type": "code",
   "execution_count": null,
   "metadata": {
    "colab": {
     "autoexec": {
      "startup": false,
      "wait_interval": 0
     }
    },
    "colab_type": "code",
    "id": "RcPeWewknnpn",
    "outputId": "548605e0-722a-4958-c86e-661afe292e91"
   },
   "outputs": [],
   "source": [
    "#add new key\n",
    "my_dict['degree'] = 'MS'\n",
    "\n",
    "print(my_dict)"
   ]
  },
  {
   "cell_type": "code",
   "execution_count": null,
   "metadata": {},
   "outputs": [],
   "source": [
    "dict_my = {'a':7,'b':8}"
   ]
  },
  {
   "cell_type": "code",
   "execution_count": null,
   "metadata": {},
   "outputs": [],
   "source": [
    "dict_my.values()"
   ]
  },
  {
   "cell_type": "code",
   "execution_count": null,
   "metadata": {},
   "outputs": [],
   "source": [
    "dic"
   ]
  },
  {
   "cell_type": "code",
   "execution_count": null,
   "metadata": {},
   "outputs": [],
   "source": [
    "l = list(dic.keys())\n",
    "l"
   ]
  },
  {
   "cell_type": "code",
   "execution_count": null,
   "metadata": {},
   "outputs": [],
   "source": [
    "dic.values()"
   ]
  },
  {
   "cell_type": "code",
   "execution_count": null,
   "metadata": {},
   "outputs": [],
   "source": [
    "sample = {}\n",
    "sample"
   ]
  },
  {
   "cell_type": "code",
   "execution_count": null,
   "metadata": {},
   "outputs": [],
   "source": [
    "for i in range(1,10):\n",
    "    if(i%2==0):\n",
    "        if 'even' in sample.keys():\n",
    "            sample['even'].append(i)\n",
    "        else:\n",
    "            sample['even']=[]\n",
    "            sample['even'].append(i)\n",
    "    else:\n",
    "        if 'odd' in sample.keys():\n",
    "            sample['odd'].append(i)\n",
    "        else:\n",
    "            sample['odd']=[]\n",
    "            sample['odd'].append(i)"
   ]
  },
  {
   "cell_type": "code",
   "execution_count": null,
   "metadata": {},
   "outputs": [],
   "source": [
    "sample"
   ]
  },
  {
   "cell_type": "markdown",
   "metadata": {
    "colab_type": "text",
    "id": "A325vIiTnnqO"
   },
   "source": [
    "# Dict Delete or Remove Element"
   ]
  },
  {
   "cell_type": "code",
   "execution_count": null,
   "metadata": {
    "colab": {
     "autoexec": {
      "startup": false,
      "wait_interval": 0
     }
    },
    "colab_type": "code",
    "id": "ZTUQRekbnnqV",
    "outputId": "7932867a-259c-4ada-b2d9-a9b2cc64bc39"
   },
   "outputs": [],
   "source": [
    "#create a dictionary\n",
    "my_dict = {'name': 'Bob', 'age': 27, 'address': 'LA'}\n",
    "\n",
    "#remove a particular item\n",
    "print(my_dict.pop('age'))\n",
    "\n",
    "print(my_dict)"
   ]
  },
  {
   "cell_type": "code",
   "execution_count": null,
   "metadata": {
    "colab": {
     "autoexec": {
      "startup": false,
      "wait_interval": 0
     }
    },
    "colab_type": "code",
    "id": "RDdveQXrnnqk",
    "outputId": "0cdb25e6-3423-4ecb-d6ae-5973c489209a"
   },
   "outputs": [],
   "source": [
    "my_dict = {'name': 'Bob', 'age': 27, 'address': [2,4,6,7]}\n",
    "\n",
    "#remove an arbitarty key\n",
    "print(my_dict.popitem())\n",
    "\n",
    "print(my_dict)"
   ]
  },
  {
   "cell_type": "code",
   "execution_count": null,
   "metadata": {
    "colab": {
     "autoexec": {
      "startup": false,
      "wait_interval": 0
     }
    },
    "colab_type": "code",
    "id": "gJW5YTkLnnqz",
    "outputId": "1a343e03-2f5d-401a-eafa-ad586829af26"
   },
   "outputs": [],
   "source": [
    "squares = {2: 4, 3: 9, 4: 16, 5: 25}\n",
    "\n",
    "#delete particular key\n",
    "del squares[2]\n",
    "\n",
    "print(squares)"
   ]
  },
  {
   "cell_type": "code",
   "execution_count": null,
   "metadata": {
    "colab": {
     "autoexec": {
      "startup": false,
      "wait_interval": 0
     }
    },
    "colab_type": "code",
    "id": "UMMXz5hHnnq9",
    "outputId": "499bf172-4313-4b90-f490-fa891b8a497b"
   },
   "outputs": [],
   "source": [
    "#remove all items\n",
    "squares.clear()\n",
    "\n",
    "print(squares)"
   ]
  },
  {
   "cell_type": "code",
   "execution_count": null,
   "metadata": {
    "colab": {
     "autoexec": {
      "startup": false,
      "wait_interval": 0
     }
    },
    "colab_type": "code",
    "id": "EGevdmkannrJ",
    "outputId": "c1197c16-e223-4c52-a5e8-a8803e7bd8a5"
   },
   "outputs": [],
   "source": [
    "squares = {2: 4, 3: 9, 4: 16, 5: 25}\n",
    "\n",
    "#delete dictionary itself\n",
    "del squares\n",
    "\n",
    "print(squares) #NameError because dict is deleted"
   ]
  },
  {
   "cell_type": "markdown",
   "metadata": {
    "colab_type": "text",
    "id": "L1WHQdr_nnrY"
   },
   "source": [
    "# Dictionary Methods"
   ]
  },
  {
   "cell_type": "code",
   "execution_count": null,
   "metadata": {
    "colab": {
     "autoexec": {
      "startup": false,
      "wait_interval": 0
     }
    },
    "colab_type": "code",
    "id": "I3_Xw9QBnnrb",
    "outputId": "75e6e74e-7cfd-4909-e4a1-9921a7fb3f7c"
   },
   "outputs": [],
   "source": [
    "squares = {2: 4, 3: 9, 4: 16, 5: 25}\n",
    "\n",
    "my_dict = squares.copy()\n",
    "print(my_dict)"
   ]
  },
  {
   "cell_type": "code",
   "execution_count": null,
   "metadata": {
    "colab": {
     "autoexec": {
      "startup": false,
      "wait_interval": 0
     }
    },
    "colab_type": "code",
    "id": "h4vrqgS5nnrk",
    "outputId": "04e24ba1-a727-4542-c9dd-49c888a0e340"
   },
   "outputs": [],
   "source": [
    "#fromkeys[seq[, v]] -> Return a new dictionary with keys from seq and value equal to v (defaults to None).\n",
    "subjects = {}.fromkeys(['Math', 'English', 'Hindi'], [10,20])\n",
    "print(subjects)"
   ]
  },
  {
   "cell_type": "code",
   "execution_count": null,
   "metadata": {
    "colab": {
     "autoexec": {
      "startup": false,
      "wait_interval": 0
     }
    },
    "colab_type": "code",
    "id": "TCA4Uen0nnrt",
    "outputId": "57facd95-8d66-4fd2-9ec0-71c671f39ccf"
   },
   "outputs": [],
   "source": [
    "subjects = {2:4, 3:9, 4:16, 5:25}\n",
    "print(subjects.items()) #return a new view of the dictionary items (key, value)"
   ]
  },
  {
   "cell_type": "code",
   "execution_count": null,
   "metadata": {
    "colab": {
     "autoexec": {
      "startup": false,
      "wait_interval": 0
     }
    },
    "colab_type": "code",
    "id": "juBcX70qnnr3",
    "outputId": "46d74613-938b-4487-958e-139e888cbfa7"
   },
   "outputs": [],
   "source": [
    "subjects = {2:4, 3:9, 4:16, 5:25}\n",
    "print(subjects.keys()) #return a new view of the dictionary keys"
   ]
  },
  {
   "cell_type": "code",
   "execution_count": null,
   "metadata": {
    "colab": {
     "autoexec": {
      "startup": false,
      "wait_interval": 0
     }
    },
    "colab_type": "code",
    "id": "wxLFGTxunnr_",
    "outputId": "09f61d9d-7f90-45ed-90c0-e3f4849cb864"
   },
   "outputs": [],
   "source": [
    "subjects = {2:4, 3:9, 4:16, 5:25}\n",
    "print(subjects.values()) #return a new view of the dictionary values"
   ]
  },
  {
   "cell_type": "code",
   "execution_count": null,
   "metadata": {
    "colab": {
     "autoexec": {
      "startup": false,
      "wait_interval": 0
     }
    },
    "colab_type": "code",
    "id": "NEJ_JK4snnsO",
    "outputId": "da029049-70e6-4269-b9d4-43be6c4cc748"
   },
   "outputs": [],
   "source": [
    "#get list of all available methods and attributes of dictionary\n",
    "d = {}\n",
    "print(dir(d))"
   ]
  }
 ],
 "metadata": {
  "colab": {
   "default_view": {},
   "name": "Day - 4 Dictionaries.ipynb",
   "provenance": [],
   "version": "0.3.2",
   "views": {}
  },
  "kernelspec": {
   "display_name": "Python 3",
   "language": "python",
   "name": "python3"
  },
  "language_info": {
   "codemirror_mode": {
    "name": "ipython",
    "version": 3
   },
   "file_extension": ".py",
   "mimetype": "text/x-python",
   "name": "python",
   "nbconvert_exporter": "python",
   "pygments_lexer": "ipython3",
   "version": "3.5.2"
  }
 },
 "nbformat": 4,
 "nbformat_minor": 1
}
